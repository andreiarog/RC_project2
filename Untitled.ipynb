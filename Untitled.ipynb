{
 "cells": [
  {
   "cell_type": "code",
   "execution_count": 29,
   "metadata": {},
   "outputs": [
    {
     "name": "stdout",
     "output_type": "stream",
     "text": [
      "[[ 7.24363636 37.01090909  9.42545455]\n",
      " [ 7.98653199 46.22222222 15.60942761]\n",
      " [ 7.55725191 33.83206107 23.51145038]\n",
      " ...\n",
      " [-4.92385787 15.31979695 27.73604061]\n",
      " [-6.27312775 34.70484581 -5.09251101]\n",
      " [-4.53874539 46.53874539  3.06273063]]\n",
      "Finish\n"
     ]
    }
   ],
   "source": [
    "import networkx as nx\n",
    "import operator\n",
    "import matplotlib.pyplot as plt\n",
    "import numpy as np\n",
    "from matplotlib.lines import Line2D\n",
    "import matplotlib.path as mpath\n",
    "import time\n",
    "import scipy.io\n",
    "import bct \n",
    "\n",
    "G=nx.Graph()\n",
    "\n",
    "mat = scipy.io.loadmat('Coactivation_matrix.mat')\n",
    "\n",
    "#read edges from csv file\n",
    "#file_edges=open(\"4-edges.csv\", \"r\")\n",
    "\n",
    "content = list(mat.values())\n",
    "print(content[4])\n",
    "\n",
    "'''\n",
    "while(1):\n",
    "    content = mat.values()\n",
    "    print(content)\n",
    "    if content == \"\":\n",
    "        break\n",
    "    line = content.split(\",\")\n",
    "    print(line[0], line[1], line[2])\n",
    "    #G.add_edge(line[0], line[1]) #add weighted edges to Graph\n",
    "'''\n",
    "#Functions\n",
    "#number_of_nodes = G.number_of_nodes()\n",
    "#av_degree = (2*G.number_of_edges())/number_of_nodes # avgdegree = 2*E/N ignoring this is a weighted graph\n",
    "\n",
    "\n",
    "print(\"Finish\")"
   ]
  },
  {
   "cell_type": "code",
   "execution_count": null,
   "metadata": {},
   "outputs": [],
   "source": [
    "betweeness=bct.betweenness_wei(G)\n"
   ]
  }
 ],
 "metadata": {
  "kernelspec": {
   "display_name": "Python 3",
   "language": "python",
   "name": "python3"
  },
  "language_info": {
   "codemirror_mode": {
    "name": "ipython",
    "version": 3
   },
   "file_extension": ".py",
   "mimetype": "text/x-python",
   "name": "python",
   "nbconvert_exporter": "python",
   "pygments_lexer": "ipython3",
   "version": "3.6.4"
  }
 },
 "nbformat": 4,
 "nbformat_minor": 2
}
