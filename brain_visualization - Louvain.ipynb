{
 "cells": [
  {
   "cell_type": "code",
   "execution_count": 2,
   "metadata": {},
   "outputs": [],
   "source": [
    "import igraph as ig\n",
    "import networkx as nx\n",
    "from operator import itemgetter\n",
    "import matplotlib.pyplot as plt\n",
    "import numpy as np\n",
    "from matplotlib.lines import Line2D\n",
    "import matplotlib.path as mpath\n",
    "import time\n",
    "import collections\n",
    "import community\n",
    "import scipy.io\n",
    "from networkx.algorithms.link_analysis import hits\n",
    "import itertools\n",
    "#1.Creation of Graph\n",
    "def createGraph(file):\n",
    "    G=nx.Graph()\n",
    "\n",
    "    mat = scipy.io.loadmat(file) #matlab file containing an adjacency matrix for the coactivation \n",
    "    #network that includes the weights of each edge and the coordinates of each node in the brain\n",
    "\n",
    "    content = list(mat.values()) #content[3] weights of the edges; content[4] coordinates\n",
    "    #print(content[3])\n",
    "    G = nx.from_numpy_matrix(content[3])\n",
    "    #print(G.edges[0,1]['weight'])\n",
    "    return [content, G]\n",
    "\n",
    "def averageWeightedDegree(G):\n",
    "    N = G.number_of_nodes()\n",
    "    weightedDegree = np.zeros(N)\n",
    "    #we start by computing the weighted degree for each node (sum of weights of the edges linked to that node        \n",
    "    for u, v, w in G.edges(data = 'weight'):\n",
    "        #add weight to both nodes that share the edge\n",
    "        weightedDegree[u] += w\n",
    "        weightedDegree[v] += w\n",
    "    av_weightedDegree = sum(weightedDegree)/N\n",
    "    return [weightedDegree, av_weightedDegree]\n",
    "\n",
    "\n",
    "file, G = createGraph('Coactivation_matrix.mat')\n",
    "weightedDegree, av_w_degree = averageWeightedDegree(G)\n"
   ]
  },
  {
   "cell_type": "code",
   "execution_count": null,
   "metadata": {},
   "outputs": [],
   "source": [
    "Edges=list(G.edges)\n",
    "\n",
    "Gi=ig.Graph(Edges, directed=False)\n"
   ]
  },
  {
   "cell_type": "code",
   "execution_count": 18,
   "metadata": {},
   "outputs": [],
   "source": [
    "layt=Gi.layout('kk', dim=3) \n",
    "i=0\n",
    "for node in file[4]:\n",
    "    layt[i]=node\n",
    "    i+=1\n",
    "    "
   ]
  },
  {
   "cell_type": "code",
   "execution_count": 19,
   "metadata": {},
   "outputs": [
    {
     "name": "stdout",
     "output_type": "stream",
     "text": [
      "<Layout with 638 vertices and 3 dimensions>\n"
     ]
    }
   ],
   "source": [
    "print(layt)"
   ]
  },
  {
   "cell_type": "code",
   "execution_count": 20,
   "metadata": {},
   "outputs": [
    {
     "name": "stdout",
     "output_type": "stream",
     "text": [
      "[7.243636363636369, 37.01090909090908, 9.425454545454542]\n"
     ]
    }
   ],
   "source": [
    "print(layt[0])"
   ]
  },
  {
   "cell_type": "code",
   "execution_count": 21,
   "metadata": {},
   "outputs": [
    {
     "name": "stdout",
     "output_type": "stream",
     "text": [
      "[ 7.24363636 37.01090909  9.42545455]\n"
     ]
    }
   ],
   "source": [
    "print(file[4][0])"
   ]
  },
  {
   "cell_type": "code",
   "execution_count": 22,
   "metadata": {},
   "outputs": [],
   "source": [
    "N=len(G.nodes)\n",
    "Xn=[layt[k][0] for k in range(N)]# x-coordinates of nodes\n",
    "Yn=[layt[k][1] for k in range(N)]# y-coordinates\n",
    "Zn=[layt[k][2] for k in range(N)]# z-coordinates\n",
    "Xe=[]\n",
    "Ye=[]\n",
    "Ze=[]\n",
    "for e in Edges:\n",
    "    Xe+=[layt[e[0]][0],layt[e[1]][0], None]# x-coordinates of edge ends\n",
    "    Ye+=[layt[e[0]][1],layt[e[1]][1], None]  \n",
    "    Ze+=[layt[e[0]][2],layt[e[1]][2], None]  \n",
    "    \n"
   ]
  },
  {
   "cell_type": "code",
   "execution_count": 23,
   "metadata": {},
   "outputs": [],
   "source": [
    "part = community.best_partition(G) #returns dictionary assign a community (integer) to each node\n",
    "\n",
    "values = [part.get(node) for node in G.nodes()] #creates a list with the community number for each node in the \n",
    "#order that appears in G.nodes()\n",
    "        "
   ]
  },
  {
   "cell_type": "code",
   "execution_count": 48,
   "metadata": {},
   "outputs": [],
   "source": [
    "import plotly\n",
    "import plotly.plotly as py\n",
    "import plotly.graph_objs as go\n",
    "plotly.tools.set_credentials_file(username='andreiarog', api_key='4QtzshXlWo5mEnzFA7zo')\n",
    "\n",
    "trace2=go.Scatter3d(x=Xn,\n",
    "               y=Yn,\n",
    "               z=Zn,\n",
    "               mode='markers',\n",
    "               name='nodes',\n",
    "               marker=dict(symbol='circle',\n",
    "                             size=weightedDegree*2,\n",
    "                             color=values,\n",
    "                             colorscale='Viridis',\n",
    "                             line=dict(color='rgb(50,50,50)', width=0.5), opacity=1.0\n",
    "                             ),\n",
    "               hoverinfo='none'\n",
    "               )\n",
    "trace1=go.Scatter3d(x=Xe,\n",
    "               y=Ye,\n",
    "               z=Ze,\n",
    "               mode='lines',\n",
    "               line=dict(color='rgb(125,125,125)', width=1), opacity=0.2,\n",
    "               hoverinfo='none'\n",
    "               )\n",
    "\n",
    "\n",
    "\n",
    "axis=dict(showbackground=False,\n",
    "          showline=False,\n",
    "          zeroline=False,\n",
    "          showgrid=False,\n",
    "          showticklabels=False,\n",
    "          title=''\n",
    "          )\n",
    "\n",
    "layout = go.Layout(\n",
    "         title=\"Network of brain (3D visualization)\",\n",
    "         width=1000,\n",
    "         height=1000,\n",
    "         showlegend=False,\n",
    "         scene=dict(\n",
    "             xaxis=dict(axis),\n",
    "             yaxis=dict(axis),\n",
    "             zaxis=dict(axis),\n",
    "        ),\n",
    "     margin=dict(\n",
    "        t=100\n",
    "    ),\n",
    "    hovermode='closest',\n",
    "    annotations=[\n",
    "           dict(\n",
    "           showarrow=False,\n",
    "            text=\"\",\n",
    "            xref='paper',\n",
    "            yref='paper',\n",
    "            x=0,\n",
    "            y=0.1,\n",
    "            xanchor='left',\n",
    "            yanchor='bottom',\n",
    "            font=dict(\n",
    "            size=14\n",
    "            )\n",
    "            )\n",
    "        ],    )"
   ]
  },
  {
   "cell_type": "code",
   "execution_count": 49,
   "metadata": {},
   "outputs": [
    {
     "name": "stderr",
     "output_type": "stream",
     "text": [
      "/home/andreia/anaconda3/lib/python3.6/site-packages/plotly/plotly/plotly.py:230: UserWarning:\n",
      "\n",
      "Woah there! Look at all those points! Due to browser limitations, the Plotly SVG drawing functions have a hard time graphing more than 500k data points for line charts, or 40k points for other types of charts. Here are some suggestions:\n",
      "(1) Use the `plotly.graph_objs.Scattergl` trace object to generate a WebGl graph.\n",
      "(2) Trying using the image API to return an image instead of a graph URL\n",
      "(3) Use matplotlib\n",
      "(4) See if you can create your visualization with fewer data points\n",
      "\n",
      "If the visualization you're using aggregates points (e.g., box plot, histogram, etc.) you can disregard this warning.\n",
      "\n"
     ]
    },
    {
     "name": "stdout",
     "output_type": "stream",
     "text": [
      "The draw time for this plot will be slow for clients without much RAM.\n"
     ]
    },
    {
     "name": "stderr",
     "output_type": "stream",
     "text": [
      "/home/andreia/anaconda3/lib/python3.6/site-packages/plotly/api/v1/clientresp.py:40: UserWarning:\n",
      "\n",
      "Estimated Draw Time Slow\n",
      "\n"
     ]
    },
    {
     "data": {
      "text/html": [
       "<iframe id=\"igraph\" scrolling=\"no\" style=\"border:none;\" seamless=\"seamless\" src=\"https://plot.ly/~andreiarog/38.embed\" height=\"1000px\" width=\"1000px\"></iframe>"
      ],
      "text/plain": [
       "<plotly.tools.PlotlyDisplay object>"
      ]
     },
     "execution_count": 49,
     "metadata": {},
     "output_type": "execute_result"
    }
   ],
   "source": [
    "data=[trace1, trace2]\n",
    "fig=go.Figure(data=data, layout=layout)\n",
    "\n",
    "py.iplot(fig, file_id=\"brain1\")"
   ]
  },
  {
   "cell_type": "code",
   "execution_count": null,
   "metadata": {},
   "outputs": [],
   "source": []
  }
 ],
 "metadata": {
  "kernelspec": {
   "display_name": "Python 3",
   "language": "python",
   "name": "python3"
  },
  "language_info": {
   "codemirror_mode": {
    "name": "ipython",
    "version": 3
   },
   "file_extension": ".py",
   "mimetype": "text/x-python",
   "name": "python",
   "nbconvert_exporter": "python",
   "pygments_lexer": "ipython3",
   "version": "3.6.4"
  }
 },
 "nbformat": 4,
 "nbformat_minor": 2
}
