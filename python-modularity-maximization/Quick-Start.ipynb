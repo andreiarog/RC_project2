{
 "cells": [
  {
   "cell_type": "markdown",
   "metadata": {},
   "source": [
    "The following two examples use data in the both cited papers mentioned in the index page."
   ]
  },
  {
   "cell_type": "code",
   "execution_count": 1,
   "metadata": {
    "ExecuteTime": {
     "end_time": "2018-02-24T03:47:48.952511Z",
     "start_time": "2018-02-24T03:47:48.023031Z"
    }
   },
   "outputs": [
    {
     "data": {
      "text/plain": [
       "'2.0'"
      ]
     },
     "execution_count": 1,
     "metadata": {},
     "output_type": "execute_result"
    }
   ],
   "source": [
    "import networkx as nx\n",
    "nx.__version__"
   ]
  },
  {
   "cell_type": "code",
   "execution_count": 2,
   "metadata": {
    "ExecuteTime": {
     "end_time": "2018-02-24T03:47:48.967458Z",
     "start_time": "2018-02-24T03:47:48.955965Z"
    }
   },
   "outputs": [],
   "source": [
    "from modularity_maximization import partition\n",
    "from modularity_maximization.utils import get_modularity"
   ]
  },
  {
   "cell_type": "markdown",
   "metadata": {},
   "source": [
    "#### Undirected Network: Karate"
   ]
  },
  {
   "cell_type": "code",
   "execution_count": 3,
   "metadata": {
    "ExecuteTime": {
     "end_time": "2018-02-24T03:47:50.386389Z",
     "start_time": "2018-02-24T03:47:50.374798Z"
    }
   },
   "outputs": [],
   "source": [
    "karate = nx.Graph(nx.read_pajek(\"data/karate.net\"))"
   ]
  },
  {
   "cell_type": "code",
   "execution_count": 4,
   "metadata": {
    "ExecuteTime": {
     "end_time": "2018-02-24T03:47:50.910921Z",
     "start_time": "2018-02-24T03:47:50.906654Z"
    }
   },
   "outputs": [
    {
     "name": "stdout",
     "output_type": "stream",
     "text": [
      "Name: \n",
      "Type: Graph\n",
      "Number of nodes: 34\n",
      "Number of edges: 78\n",
      "Average degree:   4.5882\n"
     ]
    }
   ],
   "source": [
    "print(nx.info(karate))"
   ]
  },
  {
   "cell_type": "code",
   "execution_count": 5,
   "metadata": {
    "ExecuteTime": {
     "end_time": "2018-02-24T03:47:55.391813Z",
     "start_time": "2018-02-24T03:47:51.870206Z"
    }
   },
   "outputs": [],
   "source": [
    "comm_dict = partition(karate)"
   ]
  },
  {
   "cell_type": "code",
   "execution_count": 6,
   "metadata": {
    "ExecuteTime": {
     "end_time": "2018-02-24T03:47:56.754258Z",
     "start_time": "2018-02-24T03:47:56.747997Z"
    }
   },
   "outputs": [
    {
     "name": "stdout",
     "output_type": "stream",
     "text": [
      "Community 3\n",
      "24, 25, 26, 28, 29, 32\n",
      "Community 4\n",
      "9, 15, 16, 19, 21, 23, 27, 30, 31, 33, 34\n",
      "Community 5\n",
      "1, 2, 3, 4, 8, 10, 12, 13, 14, 18, 20, 22\n",
      "Community 6\n",
      "5, 6, 7, 11, 17\n"
     ]
    }
   ],
   "source": [
    "for comm in set(comm_dict.values()):\n",
    "    print(\"Community %d\"%comm)\n",
    "    print(', '.join([node for node in comm_dict if comm_dict[node] == comm]))"
   ]
  },
  {
   "cell_type": "code",
   "execution_count": 7,
   "metadata": {
    "ExecuteTime": {
     "end_time": "2018-02-24T03:47:58.890844Z",
     "start_time": "2018-02-24T03:47:58.860525Z"
    }
   },
   "outputs": [
    {
     "name": "stdout",
     "output_type": "stream",
     "text": [
      "Calculating modularity for undirected graph\n",
      "Modularity of such partition for karate is 0.419\n"
     ]
    }
   ],
   "source": [
    "print('Modularity of such partition for karate is %.3f' % get_modularity(karate, comm_dict))"
   ]
  },
  {
   "cell_type": "markdown",
   "metadata": {},
   "source": [
    "#### Jazz Network"
   ]
  },
  {
   "cell_type": "code",
   "execution_count": 8,
   "metadata": {
    "ExecuteTime": {
     "end_time": "2018-02-24T03:48:02.357114Z",
     "start_time": "2018-02-24T03:48:02.139954Z"
    }
   },
   "outputs": [],
   "source": [
    "jazz = nx.Graph(nx.read_pajek(\"data/jazz.net\"))"
   ]
  },
  {
   "cell_type": "code",
   "execution_count": 9,
   "metadata": {
    "ExecuteTime": {
     "end_time": "2018-02-24T03:48:03.468349Z",
     "start_time": "2018-02-24T03:48:03.464376Z"
    }
   },
   "outputs": [
    {
     "name": "stdout",
     "output_type": "stream",
     "text": [
      "Name: \n",
      "Type: Graph\n",
      "Number of nodes: 198\n",
      "Number of edges: 2742\n",
      "Average degree:  27.6970\n"
     ]
    }
   ],
   "source": [
    "print(nx.info(jazz))"
   ]
  },
  {
   "cell_type": "code",
   "execution_count": 10,
   "metadata": {
    "ExecuteTime": {
     "end_time": "2018-02-24T03:50:17.408934Z",
     "start_time": "2018-02-24T03:48:05.452336Z"
    }
   },
   "outputs": [],
   "source": [
    "comm_dict = partition(jazz)"
   ]
  },
  {
   "cell_type": "code",
   "execution_count": 11,
   "metadata": {
    "ExecuteTime": {
     "end_time": "2018-02-24T03:50:20.113408Z",
     "start_time": "2018-02-24T03:50:20.107210Z"
    }
   },
   "outputs": [
    {
     "name": "stdout",
     "output_type": "stream",
     "text": [
      "Community 3\n",
      "3, 4, 5, 6, 13, 18, 21, 25, 26, 27, 28, 29, 37, 39, 41, 45, 47, 51, 73, 75, 76, 77, 79, 85, 86, 88, 90, 92, 96, 97, 102, 115, 124, 126, 128, 133, 136, 138, 140, 144, 145, 147, 148, 149, 152, 153, 155, 156, 157, 160, 163, 167, 169, 172, 173, 176, 180, 181, 184, 189, 191, 198\n",
      "Community 4\n",
      "2, 7, 10, 11, 12, 14, 19, 30, 31, 34, 36, 49, 52, 53, 54, 55, 56, 57, 61, 67, 69, 70, 71, 72, 74, 83, 87, 89, 103, 112, 113, 114, 127, 129, 130, 141, 142, 150, 151, 158, 161, 164, 165, 174, 178, 185, 186, 192, 194, 195, 196, 197\n",
      "Community 5\n",
      "1, 8, 15, 16, 17, 20, 22, 23, 24, 32, 33, 35, 38, 40, 42, 43, 44, 46, 48, 50, 58, 60, 62, 63, 64, 65, 66, 68, 78, 80, 81, 91, 95, 98, 99, 100, 101, 104, 105, 106, 107, 108, 109, 110, 119, 120, 122, 123, 131, 132, 134, 135, 139, 154, 159, 162, 166, 168, 170, 171, 179, 182, 187, 188\n",
      "Community 6\n",
      "9, 59, 82, 84, 93, 94, 111, 116, 117, 118, 121, 125, 137, 143, 146, 175, 177, 183, 190, 193\n"
     ]
    }
   ],
   "source": [
    "for comm in set(comm_dict.values()):\n",
    "    print(\"Community %d\"%comm)\n",
    "    print(', '.join([node for node in comm_dict if comm_dict[node] == comm]))"
   ]
  },
  {
   "cell_type": "code",
   "execution_count": 12,
   "metadata": {
    "ExecuteTime": {
     "end_time": "2018-02-24T03:50:22.348238Z",
     "start_time": "2018-02-24T03:50:21.746470Z"
    }
   },
   "outputs": [
    {
     "name": "stdout",
     "output_type": "stream",
     "text": [
      "Calculating modularity for undirected graph\n",
      "Modularity of such partition for jazz is 0.442\n"
     ]
    }
   ],
   "source": [
    "print('Modularity of such partition for jazz is %.3f' % get_modularity(jazz, comm_dict))"
   ]
  },
  {
   "cell_type": "markdown",
   "metadata": {},
   "source": [
    "#### Directed Network: Big 10 Football Season 2005"
   ]
  },
  {
   "cell_type": "code",
   "execution_count": 13,
   "metadata": {
    "ExecuteTime": {
     "end_time": "2018-02-24T03:50:24.653189Z",
     "start_time": "2018-02-24T03:50:24.642059Z"
    }
   },
   "outputs": [],
   "source": [
    "big_10_football = nx.read_gml(\"data/big_10_football_directed.gml\")"
   ]
  },
  {
   "cell_type": "code",
   "execution_count": 14,
   "metadata": {
    "ExecuteTime": {
     "end_time": "2018-02-24T03:50:25.235785Z",
     "start_time": "2018-02-24T03:50:25.232397Z"
    }
   },
   "outputs": [
    {
     "name": "stdout",
     "output_type": "stream",
     "text": [
      "Name: \n",
      "Type: DiGraph\n",
      "Number of nodes: 11\n",
      "Number of edges: 44\n",
      "Average in degree:   4.0000\n",
      "Average out degree:   4.0000\n"
     ]
    }
   ],
   "source": [
    "print(nx.info(big_10_football))"
   ]
  },
  {
   "cell_type": "code",
   "execution_count": 15,
   "metadata": {
    "ExecuteTime": {
     "end_time": "2018-02-24T03:50:26.936823Z",
     "start_time": "2018-02-24T03:50:26.784698Z"
    }
   },
   "outputs": [],
   "source": [
    "comm_dict = partition(big_10_football)"
   ]
  },
  {
   "cell_type": "code",
   "execution_count": 16,
   "metadata": {
    "ExecuteTime": {
     "end_time": "2018-02-24T03:50:27.764040Z",
     "start_time": "2018-02-24T03:50:27.758440Z"
    }
   },
   "outputs": [
    {
     "name": "stdout",
     "output_type": "stream",
     "text": [
      "Community 1\n",
      "Purdue, Illinois, MichiganState, Indiana\n",
      "Community 2\n",
      "Northwestern, Wisconsin, Iowa, PennState, OhioState, Michigan, Minnesota\n"
     ]
    }
   ],
   "source": [
    "for comm in set(comm_dict.values()):\n",
    "    print(\"Community %d\"%comm)\n",
    "    print(', '.join([node for node in comm_dict if comm_dict[node] == comm]))"
   ]
  },
  {
   "cell_type": "code",
   "execution_count": 17,
   "metadata": {
    "ExecuteTime": {
     "end_time": "2018-02-24T03:50:30.539769Z",
     "start_time": "2018-02-24T03:50:30.526547Z"
    }
   },
   "outputs": [
    {
     "name": "stdout",
     "output_type": "stream",
     "text": [
      "Calculating modularity for directed graph\n",
      "Modularity of such partition for karate is 0.112\n"
     ]
    }
   ],
   "source": [
    "print('Modularity of such partition for karate is %.3f' %\\\n",
    "      get_modularity(big_10_football, comm_dict))"
   ]
  }
 ],
 "metadata": {
  "kernelspec": {
   "display_name": "Python 3",
   "language": "python",
   "name": "python3"
  },
  "language_info": {
   "codemirror_mode": {
    "name": "ipython",
    "version": 3
   },
   "file_extension": ".py",
   "mimetype": "text/x-python",
   "name": "python",
   "nbconvert_exporter": "python",
   "pygments_lexer": "ipython3",
   "version": "3.6.4"
  },
  "toc": {
   "nav_menu": {},
   "number_sections": true,
   "sideBar": true,
   "skip_h1_title": false,
   "toc_cell": false,
   "toc_position": {
    "height": "836px",
    "left": "0px",
    "right": "1468px",
    "top": "113px",
    "width": "212px"
   },
   "toc_section_display": "block",
   "toc_window_display": true
  }
 },
 "nbformat": 4,
 "nbformat_minor": 2
}
